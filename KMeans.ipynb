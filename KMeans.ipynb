{
 "cells": [
  {
   "cell_type": "code",
   "execution_count": 1,
   "metadata": {
    "ExecuteTime": {
     "end_time": "2022-05-06T16:52:50.194224Z",
     "start_time": "2022-05-06T16:52:49.071608Z"
    }
   },
   "outputs": [
    {
     "data": {
      "image/png": "[encoded data removed]",
      "text/plain": [
       "<Figure size 360x360 with 1 Axes>"
      ]
     },
     "metadata": {
      "needs_background": "light"
     },
     "output_type": "display_data"
    },
    {
     "name": "stdout",
     "output_type": "stream",
     "text": [
      "Process took 5 attemps of a possible 10 for 3 clusters.\n"
     ]
    },
    {
     "data": {
      "text/plain": [
       "([(85.64285714285714, 89.14285714285714), (89.5, 59.5), (61.5, 62.625)],\n",
       " [['Alice',\n",
       "   'Charles',\n",
       "   'Ellen',\n",
       "   'Frita',\n",
       "   'Grant',\n",
       "   'Heidi',\n",
       "   'Isabelle',\n",
       "   'Jack',\n",
       "   'Lisa',\n",
       "   'Mary',\n",
       "   'Quinton',\n",
       "   'Violet',\n",
       "   'Wally',\n",
       "   'Xavier'],\n",
       "  ['Orville', 'Peter', 'Yolanda', 'Zack'],\n",
       "  ['Bob', 'Dave', 'Kate', 'Nancy', 'Ralph', 'Sally', 'Trent', 'Ursala']])"
      ]
     },
     "execution_count": 1,
     "metadata": {},
     "output_type": "execute_result"
    }
   ],
   "source": [
    "import math\n",
    "import random\n",
    "import matplotlib.pyplot as plt\n",
    "\n",
    "\n",
    "def EuclidDist(point1, point2):\n",
    "    distance = 0\n",
    "    sum_of_dimensions = 0\n",
    "    for idx in range(len(point1)):\n",
    "        sum_of_dimensions += (point1[idx]-point2[idx])**2\n",
    "    distance = math.sqrt(sum_of_dimensions)\n",
    "\n",
    "    return distance\n",
    "\n",
    "\n",
    "def FindClosestCentroid(point, centroid_list):\n",
    "    distance_to_centroid = []\n",
    "    for cluster_index in range(len(centroid_list)):\n",
    "        distance = EuclidDist(point, centroid_list[cluster_index])\n",
    "        distance_to_centroid.append(distance)\n",
    "\n",
    "    min_distance = min(distance_to_centroid)\n",
    "    closest_indx = distance_to_centroid.index(min_distance)\n",
    "    min_centroid = centroid_list[closest_indx]\n",
    "    # print(\"Point {} is closest to centroid #{} which is at location {}\".format(point, closest_indx+1, min_centroid))\n",
    "\n",
    "    return closest_indx\n",
    "\n",
    "\n",
    "def InitEmptyClusters(k):\n",
    "    clusters = []\n",
    "    for i in range(k):\n",
    "        clusters.append([])\n",
    "    return clusters\n",
    "\n",
    "\n",
    "def AssignItemsToClosestCluster(data_list, centroid_list):\n",
    "    cluster_list = InitEmptyClusters(len(centroid_list))\n",
    "\n",
    "    for key, data_point in data_list.items():\n",
    "        closest_indx = FindClosestCentroid(data_point, centroid_list)\n",
    "        cluster_list[closest_indx].append(key)\n",
    "\n",
    "    return cluster_list\n",
    "\n",
    "\n",
    "def ChooseRandomCentroids(data, k):\n",
    "\n",
    "    centroids = []\n",
    "    used_keys = []\n",
    "\n",
    "    while len(centroids) < k:\n",
    "        key = random.choice(list(data.keys()))\n",
    "        if data[key] in centroids:\n",
    "            used_keys.append(data[key])\n",
    "        else:\n",
    "            centroids.append(data[key])\n",
    "\n",
    "    return centroids\n",
    "\n",
    "\n",
    "def CaclulateCentroidLocation(data, cluster, dimension_count):\n",
    "    centroid = [0] * dimension_count\n",
    "    centroid = [0, 0]\n",
    "\n",
    "    if len(cluster) > 0:\n",
    "        for idx in range(dimension_count):\n",
    "            centroid[idx] = sum(data[key][idx] for key in cluster)\n",
    "            centroid[idx] /= len(cluster)\n",
    "\n",
    "    return tuple(centroid)\n",
    "\n",
    "\n",
    "def UpdateCentroidsKMeans(data, cluster_list):\n",
    "    artibrary_cluster = cluster_list[0]\n",
    "    arbitrary_key = artibrary_cluster[0]\n",
    "    dimension_count = len(data[arbitrary_key])\n",
    "\n",
    "    centroid_list = []\n",
    "    for cluster in cluster_list:\n",
    "        centroid_list.append(CaclulateCentroidLocation(\n",
    "            data, cluster, dimension_count))\n",
    "\n",
    "    return centroid_list\n",
    "\n",
    "\n",
    "def PlotClusters2D(data, cluster_list, centroid_list, color_list, x_label=None, y_label=None, inches=5):\n",
    "\n",
    "    plt.figure(figsize=(inches, inches))\n",
    "\n",
    "    data_x = [data[key][0] for cluster in cluster_list for key in cluster]\n",
    "    data_y = [data[key][1] for cluster in cluster_list for key in cluster]\n",
    "    data_c = [color_list[i]\n",
    "              for i, cluster in enumerate(cluster_list) for key in cluster]\n",
    "\n",
    "    plt.scatter(data_x, data_y, c=data_c)\n",
    "\n",
    "    centroids_x = [centroid[0] for centroid in centroid_list]\n",
    "    centroids_y = [centroid[1] for centroid in centroid_list]\n",
    "    centroids_c = color_list\n",
    "    plt.scatter(centroids_x, centroids_y, c=color_list, s=1000, alpha=0.3)\n",
    "\n",
    "    plt.xlabel(x_label, fontsize=16, labelpad=15)\n",
    "    plt.ylabel(y_label, fontsize=16, labelpad=15)\n",
    "\n",
    "    plt.show()\n",
    "    return\n",
    "\n",
    "\n",
    "def CreateKMeansClusters(k, data, colors, x_label=None, y_label=None, show_debug=True):\n",
    "    stable_clusters = False\n",
    "    pass_count = 0\n",
    "\n",
    "    prev_centroids = ChooseRandomCentroids(data, k)\n",
    "    prev_clusters = AssignItemsToClosestCluster(data, prev_centroids)\n",
    "\n",
    "    counter = 0\n",
    "\n",
    "    max_passes = int(k*3.5)\n",
    "    # notice that max_passes is now based on the k, instead of a hardcoded 10\n",
    "    while stable_clusters == False and pass_count < max_passes:\n",
    "        centroids = UpdateCentroidsKMeans(data, prev_clusters)\n",
    "        clusters = AssignItemsToClosestCluster(data, centroids)\n",
    "\n",
    "        if show_debug:\n",
    "            PlotClusters2D(data, prev_clusters, prev_centroids,\n",
    "                           colors, x_label, y_label)\n",
    "\n",
    "        # this section wants the number of clusters to remain the same for a total of\n",
    "        # k times. This would ensure the most accurate centroid, though not necessary.\n",
    "        if prev_clusters == clusters:\n",
    "            counter += 1\n",
    "        if counter == k:\n",
    "            stable_clusters = True\n",
    "            PlotClusters2D(data, clusters, centroids, colors, x_label, y_label)\n",
    "\n",
    "        prev_clusters = clusters\n",
    "        prev_centroids = centroids\n",
    "        pass_count += 1\n",
    "\n",
    "    print(\"Process took {} attemps of a possible {} for {} clusters.\".format(\n",
    "        pass_count, max_passes, k))\n",
    "\n",
    "    return (centroids, clusters)\n",
    "\n",
    "\n",
    "colors = [\"royalblue\", \"forestgreen\", \"maroon\"]\n",
    "student_grades = {\"Alice\": (93, 88), \"Bob\": (55, 55), \"Charles\": (90, 87), \"Dave\": (63, 57), \"Ellen\": (89, 88),\n",
    "                  \"Frita\": (90, 91), \"Grant\": (70, 86), \"Heidi\": (98, 96), \"Isabelle\": (77, 87), \"Jack\": (80, 94),\n",
    "                  \"Kate\": (60, 86), \"Lisa\": (85, 86), \"Mary\": (90, 89), \"Nancy\": (63, 58), \"Orville\": (88, 61),\n",
    "                  \"Peter\": (95, 58), \"Quinton\": (83, 89), \"Ralph\": (57, 65), \"Sally\": (67, 65), \"Trent\": (62, 62),\n",
    "                  \"Ursala\": (65, 53), \"Violet\": (82, 90), \"Wally\": (91, 93), \"Xavier\": (81, 84), \"Yolanda\": (90, 63),\n",
    "                  \"Zack\": (85, 56)}\n",
    "\n",
    "\n",
    "CreateKMeansClusters(3, student_grades, colors,\n",
    "                     \"Homework Scores\", \"Final Exam Scores\", show_debug=False)\n"
   ]
  },
  {
   "cell_type": "code",
   "execution_count": null,
   "metadata": {},
   "outputs": [],
   "source": []
  }
 ],
 "metadata": {
  "kernelspec": {
   "display_name": "Python 3",
   "language": "python",
   "name": "python3"
  },
  "language_info": {
   "codemirror_mode": {
    "name": "ipython",
    "version": 3
   },
   "file_extension": ".py",
   "mimetype": "text/x-python",
   "name": "python",
   "nbconvert_exporter": "python",
   "pygments_lexer": "ipython3",
   "version": "3.8.3"
  },
  "varInspector": {
   "cols": {
    "lenName": 16,
    "lenType": 16,
    "lenVar": 40
   },
   "kernels_config": {
    "python": {
     "delete_cmd_postfix": "",
     "delete_cmd_prefix": "del ",
     "library": "var_list.py",
     "varRefreshCmd": "print(var_dic_list())"
    },
    "r": {
     "delete_cmd_postfix": ") ",
     "delete_cmd_prefix": "rm(",
     "library": "var_list.r",
     "varRefreshCmd": "cat(var_dic_list()) "
    }
   },
   "types_to_exclude": [
    "module",
    "function",
    "builtin_function_or_method",
    "instance",
    "_Feature"
   ],
   "window_display": false
  }
 },
 "nbformat": 4,
 "nbformat_minor": 4
}
